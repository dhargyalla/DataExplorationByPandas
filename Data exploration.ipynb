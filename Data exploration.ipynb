{
 "cells": [
  {
   "cell_type": "raw",
   "id": "966db3b0",
   "metadata": {},
   "source": [
    "import pandas into your notebook and read the .csv file. \n"
   ]
  },
  {
   "cell_type": "code",
   "execution_count": null,
   "id": "089be77b",
   "metadata": {},
   "outputs": [],
   "source": [
    "import pandas as pd\n"
   ]
  },
  {
   "cell_type": "code",
   "execution_count": null,
   "id": "596d572e",
   "metadata": {},
   "outputs": [],
   "source": [
    "df = pd.read_csv(\"salaries_by_college_major.csv\")"
   ]
  }
 ],
 "metadata": {
  "kernelspec": {
   "display_name": "Python 3 (ipykernel)",
   "language": "python",
   "name": "python3"
  },
  "language_info": {
   "codemirror_mode": {
    "name": "ipython",
    "version": 3
   },
   "file_extension": ".py",
   "mimetype": "text/x-python",
   "name": "python",
   "nbconvert_exporter": "python",
   "pygments_lexer": "ipython3",
   "version": "3.9.12"
  }
 },
 "nbformat": 4,
 "nbformat_minor": 5
}
